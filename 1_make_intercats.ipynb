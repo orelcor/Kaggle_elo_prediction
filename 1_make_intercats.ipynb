{
 "cells": [
  {
   "cell_type": "code",
   "execution_count": 15,
   "metadata": {},
   "outputs": [],
   "source": [
    "import pandas as pd\n",
    "from tqdm import tqdm_notebook as tqdm"
   ]
  },
  {
   "cell_type": "code",
   "execution_count": 3,
   "metadata": {},
   "outputs": [],
   "source": [
    "df = pd.read_csv('mrg_test.csv', header = 0)"
   ]
  },
  {
   "cell_type": "code",
   "execution_count": 4,
   "metadata": {},
   "outputs": [
    {
     "data": {
      "text/html": [
       "<div>\n",
       "<style scoped>\n",
       "    .dataframe tbody tr th:only-of-type {\n",
       "        vertical-align: middle;\n",
       "    }\n",
       "\n",
       "    .dataframe tbody tr th {\n",
       "        vertical-align: top;\n",
       "    }\n",
       "\n",
       "    .dataframe thead th {\n",
       "        text-align: right;\n",
       "    }\n",
       "</style>\n",
       "<table border=\"1\" class=\"dataframe\">\n",
       "  <thead>\n",
       "    <tr style=\"text-align: right;\">\n",
       "      <th></th>\n",
       "      <th>first_active_month</th>\n",
       "      <th>card_id</th>\n",
       "      <th>feature_1</th>\n",
       "      <th>feature_2</th>\n",
       "      <th>feature_3</th>\n",
       "      <th>city_count</th>\n",
       "      <th>log2_transact_amount</th>\n",
       "      <th>merchant_count</th>\n",
       "      <th>mean</th>\n",
       "      <th>std</th>\n",
       "      <th>...</th>\n",
       "      <th>instal_4</th>\n",
       "      <th>instal_5</th>\n",
       "      <th>instal_6</th>\n",
       "      <th>instal_7</th>\n",
       "      <th>instal_8</th>\n",
       "      <th>instal_9</th>\n",
       "      <th>instal_10</th>\n",
       "      <th>instal_11</th>\n",
       "      <th>instal_12</th>\n",
       "      <th>instal_999</th>\n",
       "    </tr>\n",
       "  </thead>\n",
       "  <tbody>\n",
       "    <tr>\n",
       "      <th>0</th>\n",
       "      <td>2017-04</td>\n",
       "      <td>C_ID_0ab67a22ab</td>\n",
       "      <td>3</td>\n",
       "      <td>3</td>\n",
       "      <td>1</td>\n",
       "      <td>3.0</td>\n",
       "      <td>1.584963</td>\n",
       "      <td>3.0</td>\n",
       "      <td>-0.592385</td>\n",
       "      <td>0.182843</td>\n",
       "      <td>...</td>\n",
       "      <td>0.0</td>\n",
       "      <td>0.0</td>\n",
       "      <td>0.0</td>\n",
       "      <td>0.0</td>\n",
       "      <td>0.0</td>\n",
       "      <td>0.0</td>\n",
       "      <td>0.0</td>\n",
       "      <td>0.0</td>\n",
       "      <td>0.0</td>\n",
       "      <td>0.0</td>\n",
       "    </tr>\n",
       "    <tr>\n",
       "      <th>1</th>\n",
       "      <td>2017-01</td>\n",
       "      <td>C_ID_130fd0cbdd</td>\n",
       "      <td>2</td>\n",
       "      <td>3</td>\n",
       "      <td>0</td>\n",
       "      <td>2.0</td>\n",
       "      <td>3.169925</td>\n",
       "      <td>9.0</td>\n",
       "      <td>-0.660522</td>\n",
       "      <td>0.071147</td>\n",
       "      <td>...</td>\n",
       "      <td>0.0</td>\n",
       "      <td>0.0</td>\n",
       "      <td>0.0</td>\n",
       "      <td>0.0</td>\n",
       "      <td>0.0</td>\n",
       "      <td>0.0</td>\n",
       "      <td>0.0</td>\n",
       "      <td>0.0</td>\n",
       "      <td>0.0</td>\n",
       "      <td>0.0</td>\n",
       "    </tr>\n",
       "    <tr>\n",
       "      <th>2</th>\n",
       "      <td>2017-08</td>\n",
       "      <td>C_ID_b709037bc5</td>\n",
       "      <td>5</td>\n",
       "      <td>1</td>\n",
       "      <td>1</td>\n",
       "      <td>2.0</td>\n",
       "      <td>1.000000</td>\n",
       "      <td>2.0</td>\n",
       "      <td>0.090069</td>\n",
       "      <td>1.151788</td>\n",
       "      <td>...</td>\n",
       "      <td>0.0</td>\n",
       "      <td>0.0</td>\n",
       "      <td>0.0</td>\n",
       "      <td>0.0</td>\n",
       "      <td>0.0</td>\n",
       "      <td>0.0</td>\n",
       "      <td>1.0</td>\n",
       "      <td>0.0</td>\n",
       "      <td>0.0</td>\n",
       "      <td>0.0</td>\n",
       "    </tr>\n",
       "    <tr>\n",
       "      <th>3</th>\n",
       "      <td>2017-12</td>\n",
       "      <td>C_ID_d27d835a9f</td>\n",
       "      <td>2</td>\n",
       "      <td>1</td>\n",
       "      <td>0</td>\n",
       "      <td>3.0</td>\n",
       "      <td>3.321928</td>\n",
       "      <td>10.0</td>\n",
       "      <td>-0.574367</td>\n",
       "      <td>0.073166</td>\n",
       "      <td>...</td>\n",
       "      <td>0.0</td>\n",
       "      <td>0.0</td>\n",
       "      <td>0.0</td>\n",
       "      <td>0.0</td>\n",
       "      <td>0.0</td>\n",
       "      <td>0.0</td>\n",
       "      <td>0.0</td>\n",
       "      <td>0.0</td>\n",
       "      <td>1.0</td>\n",
       "      <td>0.0</td>\n",
       "    </tr>\n",
       "    <tr>\n",
       "      <th>4</th>\n",
       "      <td>2015-12</td>\n",
       "      <td>C_ID_2b5e3df5c2</td>\n",
       "      <td>5</td>\n",
       "      <td>1</td>\n",
       "      <td>1</td>\n",
       "      <td>2.0</td>\n",
       "      <td>2.584963</td>\n",
       "      <td>6.0</td>\n",
       "      <td>2.010833</td>\n",
       "      <td>6.028671</td>\n",
       "      <td>...</td>\n",
       "      <td>0.0</td>\n",
       "      <td>0.0</td>\n",
       "      <td>0.0</td>\n",
       "      <td>0.0</td>\n",
       "      <td>0.0</td>\n",
       "      <td>0.0</td>\n",
       "      <td>0.0</td>\n",
       "      <td>0.0</td>\n",
       "      <td>0.0</td>\n",
       "      <td>0.0</td>\n",
       "    </tr>\n",
       "  </tbody>\n",
       "</table>\n",
       "<p>5 rows × 47 columns</p>\n",
       "</div>"
      ],
      "text/plain": [
       "  first_active_month          card_id  feature_1  feature_2  feature_3  \\\n",
       "0            2017-04  C_ID_0ab67a22ab          3          3          1   \n",
       "1            2017-01  C_ID_130fd0cbdd          2          3          0   \n",
       "2            2017-08  C_ID_b709037bc5          5          1          1   \n",
       "3            2017-12  C_ID_d27d835a9f          2          1          0   \n",
       "4            2015-12  C_ID_2b5e3df5c2          5          1          1   \n",
       "\n",
       "   city_count  log2_transact_amount  merchant_count      mean       std  \\\n",
       "0         3.0              1.584963             3.0 -0.592385  0.182843   \n",
       "1         2.0              3.169925             9.0 -0.660522  0.071147   \n",
       "2         2.0              1.000000             2.0  0.090069  1.151788   \n",
       "3         3.0              3.321928            10.0 -0.574367  0.073166   \n",
       "4         2.0              2.584963             6.0  2.010833  6.028671   \n",
       "\n",
       "      ...      instal_4  instal_5  instal_6  instal_7  instal_8  instal_9  \\\n",
       "0     ...           0.0       0.0       0.0       0.0       0.0       0.0   \n",
       "1     ...           0.0       0.0       0.0       0.0       0.0       0.0   \n",
       "2     ...           0.0       0.0       0.0       0.0       0.0       0.0   \n",
       "3     ...           0.0       0.0       0.0       0.0       0.0       0.0   \n",
       "4     ...           0.0       0.0       0.0       0.0       0.0       0.0   \n",
       "\n",
       "   instal_10  instal_11  instal_12  instal_999  \n",
       "0        0.0        0.0        0.0         0.0  \n",
       "1        0.0        0.0        0.0         0.0  \n",
       "2        1.0        0.0        0.0         0.0  \n",
       "3        0.0        0.0        1.0         0.0  \n",
       "4        0.0        0.0        0.0         0.0  \n",
       "\n",
       "[5 rows x 47 columns]"
      ]
     },
     "execution_count": 4,
     "metadata": {},
     "output_type": "execute_result"
    }
   ],
   "source": [
    "df.head()"
   ]
  },
  {
   "cell_type": "code",
   "execution_count": 7,
   "metadata": {},
   "outputs": [
    {
     "data": {
      "text/plain": [
       "Index(['city_count', 'log2_transact_amount', 'merchant_count', 'mean', 'std',\n",
       "       'median', 'amin', 'amax', 'sum', 'sqrt_transact_amount', 'sq_mean',\n",
       "       'sq_std', 'sq_median', 'sq_amin', 'sq_amax', 'sq_sum', 'state_count',\n",
       "       'cat_1_N', 'cat_1_Y', 'cat_2_1', 'cat_2_2', 'cat_2_3', 'cat_2_4',\n",
       "       'cat_2_5', 'cat_3_A', 'cat_3_B', 'cat_3_C', 'instal_-1', 'instal_0',\n",
       "       'instal_1', 'instal_2', 'instal_3', 'instal_4', 'instal_5', 'instal_6',\n",
       "       'instal_7', 'instal_8', 'instal_9', 'instal_10', 'instal_11',\n",
       "       'instal_12', 'instal_999'],\n",
       "      dtype='object')"
      ]
     },
     "execution_count": 7,
     "metadata": {},
     "output_type": "execute_result"
    }
   ],
   "source": [
    "#numerics = df.columns[6:] # for train set\n",
    "numerics = df.columns[5:]\n",
    "numerics"
   ]
  },
  {
   "cell_type": "code",
   "execution_count": 8,
   "metadata": {},
   "outputs": [],
   "source": [
    "df_nums = df[numerics]"
   ]
  },
  {
   "cell_type": "code",
   "execution_count": null,
   "metadata": {},
   "outputs": [],
   "source": []
  },
  {
   "cell_type": "code",
   "execution_count": 9,
   "metadata": {},
   "outputs": [
    {
     "data": {
      "text/html": [
       "<div>\n",
       "<style scoped>\n",
       "    .dataframe tbody tr th:only-of-type {\n",
       "        vertical-align: middle;\n",
       "    }\n",
       "\n",
       "    .dataframe tbody tr th {\n",
       "        vertical-align: top;\n",
       "    }\n",
       "\n",
       "    .dataframe thead th {\n",
       "        text-align: right;\n",
       "    }\n",
       "</style>\n",
       "<table border=\"1\" class=\"dataframe\">\n",
       "  <thead>\n",
       "    <tr style=\"text-align: right;\">\n",
       "      <th></th>\n",
       "      <th>city_count</th>\n",
       "      <th>log2_transact_amount</th>\n",
       "      <th>merchant_count</th>\n",
       "      <th>mean</th>\n",
       "      <th>std</th>\n",
       "      <th>median</th>\n",
       "      <th>amin</th>\n",
       "      <th>amax</th>\n",
       "      <th>sum</th>\n",
       "      <th>sqrt_transact_amount</th>\n",
       "      <th>...</th>\n",
       "      <th>instal_4</th>\n",
       "      <th>instal_5</th>\n",
       "      <th>instal_6</th>\n",
       "      <th>instal_7</th>\n",
       "      <th>instal_8</th>\n",
       "      <th>instal_9</th>\n",
       "      <th>instal_10</th>\n",
       "      <th>instal_11</th>\n",
       "      <th>instal_12</th>\n",
       "      <th>instal_999</th>\n",
       "    </tr>\n",
       "  </thead>\n",
       "  <tbody>\n",
       "    <tr>\n",
       "      <th>0</th>\n",
       "      <td>3.0</td>\n",
       "      <td>1.584963</td>\n",
       "      <td>3.0</td>\n",
       "      <td>-0.592385</td>\n",
       "      <td>0.182843</td>\n",
       "      <td>-0.671775</td>\n",
       "      <td>-0.722114</td>\n",
       "      <td>-0.383266</td>\n",
       "      <td>-1.777156</td>\n",
       "      <td>1.732051</td>\n",
       "      <td>...</td>\n",
       "      <td>0.0</td>\n",
       "      <td>0.0</td>\n",
       "      <td>0.0</td>\n",
       "      <td>0.0</td>\n",
       "      <td>0.0</td>\n",
       "      <td>0.0</td>\n",
       "      <td>0.0</td>\n",
       "      <td>0.0</td>\n",
       "      <td>0.0</td>\n",
       "      <td>0.0</td>\n",
       "    </tr>\n",
       "    <tr>\n",
       "      <th>1</th>\n",
       "      <td>2.0</td>\n",
       "      <td>3.169925</td>\n",
       "      <td>9.0</td>\n",
       "      <td>-0.660522</td>\n",
       "      <td>0.071147</td>\n",
       "      <td>-0.656749</td>\n",
       "      <td>-0.740897</td>\n",
       "      <td>-0.506484</td>\n",
       "      <td>-5.944698</td>\n",
       "      <td>3.000000</td>\n",
       "      <td>...</td>\n",
       "      <td>0.0</td>\n",
       "      <td>0.0</td>\n",
       "      <td>0.0</td>\n",
       "      <td>0.0</td>\n",
       "      <td>0.0</td>\n",
       "      <td>0.0</td>\n",
       "      <td>0.0</td>\n",
       "      <td>0.0</td>\n",
       "      <td>0.0</td>\n",
       "      <td>0.0</td>\n",
       "    </tr>\n",
       "    <tr>\n",
       "      <th>2</th>\n",
       "      <td>2.0</td>\n",
       "      <td>1.000000</td>\n",
       "      <td>2.0</td>\n",
       "      <td>0.090069</td>\n",
       "      <td>1.151788</td>\n",
       "      <td>0.090069</td>\n",
       "      <td>-0.724368</td>\n",
       "      <td>0.904506</td>\n",
       "      <td>0.180138</td>\n",
       "      <td>1.414214</td>\n",
       "      <td>...</td>\n",
       "      <td>0.0</td>\n",
       "      <td>0.0</td>\n",
       "      <td>0.0</td>\n",
       "      <td>0.0</td>\n",
       "      <td>0.0</td>\n",
       "      <td>0.0</td>\n",
       "      <td>1.0</td>\n",
       "      <td>0.0</td>\n",
       "      <td>0.0</td>\n",
       "      <td>0.0</td>\n",
       "    </tr>\n",
       "    <tr>\n",
       "      <th>3</th>\n",
       "      <td>3.0</td>\n",
       "      <td>3.321928</td>\n",
       "      <td>10.0</td>\n",
       "      <td>-0.574367</td>\n",
       "      <td>0.073166</td>\n",
       "      <td>-0.581391</td>\n",
       "      <td>-0.671775</td>\n",
       "      <td>-0.447880</td>\n",
       "      <td>-5.743674</td>\n",
       "      <td>3.162278</td>\n",
       "      <td>...</td>\n",
       "      <td>0.0</td>\n",
       "      <td>0.0</td>\n",
       "      <td>0.0</td>\n",
       "      <td>0.0</td>\n",
       "      <td>0.0</td>\n",
       "      <td>0.0</td>\n",
       "      <td>0.0</td>\n",
       "      <td>0.0</td>\n",
       "      <td>1.0</td>\n",
       "      <td>0.0</td>\n",
       "    </tr>\n",
       "    <tr>\n",
       "      <th>4</th>\n",
       "      <td>2.0</td>\n",
       "      <td>2.584963</td>\n",
       "      <td>6.0</td>\n",
       "      <td>2.010833</td>\n",
       "      <td>6.028671</td>\n",
       "      <td>-0.654495</td>\n",
       "      <td>-0.704082</td>\n",
       "      <td>14.279604</td>\n",
       "      <td>12.064997</td>\n",
       "      <td>2.449490</td>\n",
       "      <td>...</td>\n",
       "      <td>0.0</td>\n",
       "      <td>0.0</td>\n",
       "      <td>0.0</td>\n",
       "      <td>0.0</td>\n",
       "      <td>0.0</td>\n",
       "      <td>0.0</td>\n",
       "      <td>0.0</td>\n",
       "      <td>0.0</td>\n",
       "      <td>0.0</td>\n",
       "      <td>0.0</td>\n",
       "    </tr>\n",
       "  </tbody>\n",
       "</table>\n",
       "<p>5 rows × 42 columns</p>\n",
       "</div>"
      ],
      "text/plain": [
       "   city_count  log2_transact_amount  merchant_count      mean       std  \\\n",
       "0         3.0              1.584963             3.0 -0.592385  0.182843   \n",
       "1         2.0              3.169925             9.0 -0.660522  0.071147   \n",
       "2         2.0              1.000000             2.0  0.090069  1.151788   \n",
       "3         3.0              3.321928            10.0 -0.574367  0.073166   \n",
       "4         2.0              2.584963             6.0  2.010833  6.028671   \n",
       "\n",
       "     median      amin       amax        sum  sqrt_transact_amount     ...      \\\n",
       "0 -0.671775 -0.722114  -0.383266  -1.777156              1.732051     ...       \n",
       "1 -0.656749 -0.740897  -0.506484  -5.944698              3.000000     ...       \n",
       "2  0.090069 -0.724368   0.904506   0.180138              1.414214     ...       \n",
       "3 -0.581391 -0.671775  -0.447880  -5.743674              3.162278     ...       \n",
       "4 -0.654495 -0.704082  14.279604  12.064997              2.449490     ...       \n",
       "\n",
       "   instal_4  instal_5  instal_6  instal_7  instal_8  instal_9  instal_10  \\\n",
       "0       0.0       0.0       0.0       0.0       0.0       0.0        0.0   \n",
       "1       0.0       0.0       0.0       0.0       0.0       0.0        0.0   \n",
       "2       0.0       0.0       0.0       0.0       0.0       0.0        1.0   \n",
       "3       0.0       0.0       0.0       0.0       0.0       0.0        0.0   \n",
       "4       0.0       0.0       0.0       0.0       0.0       0.0        0.0   \n",
       "\n",
       "   instal_11  instal_12  instal_999  \n",
       "0        0.0        0.0         0.0  \n",
       "1        0.0        0.0         0.0  \n",
       "2        0.0        0.0         0.0  \n",
       "3        0.0        1.0         0.0  \n",
       "4        0.0        0.0         0.0  \n",
       "\n",
       "[5 rows x 42 columns]"
      ]
     },
     "execution_count": 9,
     "metadata": {},
     "output_type": "execute_result"
    }
   ],
   "source": [
    "df_nums.head()"
   ]
  },
  {
   "cell_type": "code",
   "execution_count": 11,
   "metadata": {},
   "outputs": [],
   "source": [
    "test = df_nums.iloc[:1000, :3]"
   ]
  },
  {
   "cell_type": "code",
   "execution_count": 17,
   "metadata": {},
   "outputs": [
    {
     "data": {
      "text/html": [
       "<div>\n",
       "<style scoped>\n",
       "    .dataframe tbody tr th:only-of-type {\n",
       "        vertical-align: middle;\n",
       "    }\n",
       "\n",
       "    .dataframe tbody tr th {\n",
       "        vertical-align: top;\n",
       "    }\n",
       "\n",
       "    .dataframe thead th {\n",
       "        text-align: right;\n",
       "    }\n",
       "</style>\n",
       "<table border=\"1\" class=\"dataframe\">\n",
       "  <thead>\n",
       "    <tr style=\"text-align: right;\">\n",
       "      <th></th>\n",
       "      <th>city_count</th>\n",
       "      <th>log2_transact_amount</th>\n",
       "      <th>merchant_count</th>\n",
       "      <th>sq_city_count</th>\n",
       "      <th>city_count_with_log2_transact_amount</th>\n",
       "      <th>city_count_with_merchant_count</th>\n",
       "      <th>sq_log2_transact_amount</th>\n",
       "      <th>log2_transact_amount_with_merchant_count</th>\n",
       "      <th>sq_merchant_count</th>\n",
       "    </tr>\n",
       "  </thead>\n",
       "  <tbody>\n",
       "    <tr>\n",
       "      <th>0</th>\n",
       "      <td>3.0</td>\n",
       "      <td>1.584963</td>\n",
       "      <td>3.0</td>\n",
       "      <td>9.0</td>\n",
       "      <td>4.754888</td>\n",
       "      <td>9.0</td>\n",
       "      <td>2.512106</td>\n",
       "      <td>4.754888</td>\n",
       "      <td>9.0</td>\n",
       "    </tr>\n",
       "    <tr>\n",
       "      <th>1</th>\n",
       "      <td>2.0</td>\n",
       "      <td>3.169925</td>\n",
       "      <td>9.0</td>\n",
       "      <td>4.0</td>\n",
       "      <td>6.339850</td>\n",
       "      <td>18.0</td>\n",
       "      <td>10.048425</td>\n",
       "      <td>28.529325</td>\n",
       "      <td>81.0</td>\n",
       "    </tr>\n",
       "    <tr>\n",
       "      <th>2</th>\n",
       "      <td>2.0</td>\n",
       "      <td>1.000000</td>\n",
       "      <td>2.0</td>\n",
       "      <td>4.0</td>\n",
       "      <td>2.000000</td>\n",
       "      <td>4.0</td>\n",
       "      <td>1.000000</td>\n",
       "      <td>2.000000</td>\n",
       "      <td>4.0</td>\n",
       "    </tr>\n",
       "    <tr>\n",
       "      <th>3</th>\n",
       "      <td>3.0</td>\n",
       "      <td>3.321928</td>\n",
       "      <td>10.0</td>\n",
       "      <td>9.0</td>\n",
       "      <td>9.965784</td>\n",
       "      <td>30.0</td>\n",
       "      <td>11.035206</td>\n",
       "      <td>33.219281</td>\n",
       "      <td>100.0</td>\n",
       "    </tr>\n",
       "    <tr>\n",
       "      <th>4</th>\n",
       "      <td>2.0</td>\n",
       "      <td>2.584963</td>\n",
       "      <td>6.0</td>\n",
       "      <td>4.0</td>\n",
       "      <td>5.169925</td>\n",
       "      <td>12.0</td>\n",
       "      <td>6.682031</td>\n",
       "      <td>15.509775</td>\n",
       "      <td>36.0</td>\n",
       "    </tr>\n",
       "  </tbody>\n",
       "</table>\n",
       "</div>"
      ],
      "text/plain": [
       "   city_count  log2_transact_amount  merchant_count  sq_city_count  \\\n",
       "0         3.0              1.584963             3.0            9.0   \n",
       "1         2.0              3.169925             9.0            4.0   \n",
       "2         2.0              1.000000             2.0            4.0   \n",
       "3         3.0              3.321928            10.0            9.0   \n",
       "4         2.0              2.584963             6.0            4.0   \n",
       "\n",
       "   city_count_with_log2_transact_amount  city_count_with_merchant_count  \\\n",
       "0                              4.754888                             9.0   \n",
       "1                              6.339850                            18.0   \n",
       "2                              2.000000                             4.0   \n",
       "3                              9.965784                            30.0   \n",
       "4                              5.169925                            12.0   \n",
       "\n",
       "   sq_log2_transact_amount  log2_transact_amount_with_merchant_count  \\\n",
       "0                 2.512106                                  4.754888   \n",
       "1                10.048425                                 28.529325   \n",
       "2                 1.000000                                  2.000000   \n",
       "3                11.035206                                 33.219281   \n",
       "4                 6.682031                                 15.509775   \n",
       "\n",
       "   sq_merchant_count  \n",
       "0                9.0  \n",
       "1               81.0  \n",
       "2                4.0  \n",
       "3              100.0  \n",
       "4               36.0  "
      ]
     },
     "execution_count": 17,
     "metadata": {},
     "output_type": "execute_result"
    }
   ],
   "source": [
    "test.head()"
   ]
  },
  {
   "cell_type": "code",
   "execution_count": 13,
   "metadata": {},
   "outputs": [
    {
     "data": {
      "text/plain": [
       "[2, 3]"
      ]
     },
     "execution_count": 13,
     "metadata": {},
     "output_type": "execute_result"
    }
   ],
   "source": [
    "a = [1, 2, 3]\n",
    "a.pop(0)\n",
    "a"
   ]
  },
  {
   "cell_type": "code",
   "execution_count": 114,
   "metadata": {},
   "outputs": [],
   "source": [
    "def make_interact_bad(frame):\n",
    "    '''Making pair interactions (multiply)  \n",
    "       for every feature O(n^2)\n",
    "       TESTED'''\n",
    "    \n",
    "    cols = list(frame.columns)\n",
    "    for i, _ in enumerate(cols):\n",
    "        for j, _ in enumerate(cols):\n",
    "            new_name = ''\n",
    "            if(cols[i] == cols[j]):\n",
    "                new_name = 'sq_' + cols[i]\n",
    "            else:\n",
    "                new_name = cols[i] + '_with_' + cols[j]\n",
    "            frame[new_name] = frame[cols[i]] * frame[cols[j]] "
   ]
  },
  {
   "cell_type": "code",
   "execution_count": 10,
   "metadata": {},
   "outputs": [],
   "source": [
    "def make_interact(frame):\n",
    "    '''Making pair interactions (multiply)  \n",
    "       for every feature O(n * log(n))\n",
    "       TESTED'''\n",
    "    \n",
    "    cols = list(frame.columns)\n",
    " \n",
    "    pbar = tqdm(total = frame.shape[1])\n",
    "    while(len(cols) > 0):\n",
    "        cur = cols.pop(0)\n",
    "        name = 'sq_' + cur\n",
    "        frame[name] = frame[cur] * frame[cur] \n",
    "        \n",
    "        for j, _ in enumerate(cols):\n",
    "            new_name = cur + '_with_' + cols[j]\n",
    "            frame[new_name] = frame[cur] * frame[cols[j]] \n",
    "        pbar.update(1)\n",
    "    pbar.close()"
   ]
  },
  {
   "cell_type": "code",
   "execution_count": 113,
   "metadata": {},
   "outputs": [
    {
     "name": "stdout",
     "output_type": "stream",
     "text": [
      "Wall time: 11 ms\n"
     ]
    }
   ],
   "source": [
    "%%time\n",
    "make_interact_bad(test)"
   ]
  },
  {
   "cell_type": "code",
   "execution_count": 16,
   "metadata": {},
   "outputs": [
    {
     "data": {
      "application/vnd.jupyter.widget-view+json": {
       "model_id": "ccb0771ce4fd41f79f6e9032be2c8a33",
       "version_major": 2,
       "version_minor": 0
      },
      "text/plain": [
       "HBox(children=(IntProgress(value=0, max=3), HTML(value='')))"
      ]
     },
     "metadata": {},
     "output_type": "display_data"
    },
    {
     "name": "stdout",
     "output_type": "stream",
     "text": [
      "\n",
      "Wall time: 135 ms\n"
     ]
    }
   ],
   "source": [
    "%%time\n",
    "make_interact(test)"
   ]
  },
  {
   "cell_type": "code",
   "execution_count": null,
   "metadata": {},
   "outputs": [],
   "source": []
  },
  {
   "cell_type": "markdown",
   "metadata": {},
   "source": [
    "# TQDM\n"
   ]
  },
  {
   "cell_type": "code",
   "execution_count": 137,
   "metadata": {},
   "outputs": [
    {
     "data": {
      "application/vnd.jupyter.widget-view+json": {
       "model_id": "80b2ed0bcd3e4fe1a5cd32b6fc803d24",
       "version_major": 2,
       "version_minor": 0
      },
      "text/plain": [
       "HBox(children=(IntProgress(value=0, max=3), HTML(value='')))"
      ]
     },
     "metadata": {},
     "output_type": "display_data"
    }
   ],
   "source": [
    "pbar = tqdm(total = 3)\n"
   ]
  },
  {
   "cell_type": "code",
   "execution_count": 142,
   "metadata": {},
   "outputs": [],
   "source": [
    "pbar.update(1)"
   ]
  },
  {
   "cell_type": "code",
   "execution_count": 143,
   "metadata": {},
   "outputs": [],
   "source": [
    "pbar.close()"
   ]
  },
  {
   "cell_type": "markdown",
   "metadata": {},
   "source": [
    "# To DO"
   ]
  },
  {
   "cell_type": "code",
   "execution_count": 18,
   "metadata": {},
   "outputs": [
    {
     "data": {
      "application/vnd.jupyter.widget-view+json": {
       "model_id": "a6e5359e0421419b9326699c185900aa",
       "version_major": 2,
       "version_minor": 0
      },
      "text/plain": [
       "HBox(children=(IntProgress(value=0, max=42), HTML(value='')))"
      ]
     },
     "metadata": {},
     "output_type": "display_data"
    },
    {
     "name": "stderr",
     "output_type": "stream",
     "text": [
      "c:\\python36\\lib\\site-packages\\ipykernel_launcher.py:12: SettingWithCopyWarning: \n",
      "A value is trying to be set on a copy of a slice from a DataFrame.\n",
      "Try using .loc[row_indexer,col_indexer] = value instead\n",
      "\n",
      "See the caveats in the documentation: http://pandas.pydata.org/pandas-docs/stable/indexing.html#indexing-view-versus-copy\n",
      "  if sys.path[0] == '':\n",
      "c:\\python36\\lib\\site-packages\\ipykernel_launcher.py:16: SettingWithCopyWarning: \n",
      "A value is trying to be set on a copy of a slice from a DataFrame.\n",
      "Try using .loc[row_indexer,col_indexer] = value instead\n",
      "\n",
      "See the caveats in the documentation: http://pandas.pydata.org/pandas-docs/stable/indexing.html#indexing-view-versus-copy\n",
      "  app.launch_new_instance()\n"
     ]
    },
    {
     "name": "stdout",
     "output_type": "stream",
     "text": [
      "\n",
      "Wall time: 12.8 s\n"
     ]
    }
   ],
   "source": [
    "%%time\n",
    "make_interact(df_nums)"
   ]
  },
  {
   "cell_type": "code",
   "execution_count": 19,
   "metadata": {},
   "outputs": [
    {
     "data": {
      "text/plain": [
       "(123623, 939)"
      ]
     },
     "execution_count": 19,
     "metadata": {},
     "output_type": "execute_result"
    }
   ],
   "source": [
    "df_nums.shape"
   ]
  },
  {
   "cell_type": "code",
   "execution_count": null,
   "metadata": {},
   "outputs": [],
   "source": [
    "df_nums.to_csv('mrg_test_interact.csv', header = True, index = None)"
   ]
  },
  {
   "cell_type": "code",
   "execution_count": null,
   "metadata": {},
   "outputs": [],
   "source": [
    "df_nums.info()"
   ]
  }
 ],
 "metadata": {
  "kernelspec": {
   "display_name": "Python 3",
   "language": "python",
   "name": "python3"
  },
  "language_info": {
   "codemirror_mode": {
    "name": "ipython",
    "version": 3
   },
   "file_extension": ".py",
   "mimetype": "text/x-python",
   "name": "python",
   "nbconvert_exporter": "python",
   "pygments_lexer": "ipython3",
   "version": "3.6.8"
  },
  "varInspector": {
   "cols": {
    "lenName": 16,
    "lenType": 16,
    "lenVar": 40
   },
   "kernels_config": {
    "python": {
     "delete_cmd_postfix": "",
     "delete_cmd_prefix": "del ",
     "library": "var_list.py",
     "varRefreshCmd": "print(var_dic_list())"
    },
    "r": {
     "delete_cmd_postfix": ") ",
     "delete_cmd_prefix": "rm(",
     "library": "var_list.r",
     "varRefreshCmd": "cat(var_dic_list()) "
    }
   },
   "types_to_exclude": [
    "module",
    "function",
    "builtin_function_or_method",
    "instance",
    "_Feature"
   ],
   "window_display": false
  }
 },
 "nbformat": 4,
 "nbformat_minor": 2
}
