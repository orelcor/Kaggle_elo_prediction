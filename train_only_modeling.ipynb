{
 "cells": [
  {
   "cell_type": "code",
   "execution_count": 2,
   "metadata": {},
   "outputs": [],
   "source": [
    "import pandas as pd\n",
    "import numpy as np\n",
    "import seaborn as sns\n",
    "from sklearn.linear_model import LinearRegression\n",
    "from sklearn.metrics import mean_squared_error, r2_score"
   ]
  },
  {
   "cell_type": "code",
   "execution_count": 3,
   "metadata": {},
   "outputs": [],
   "source": [
    "df = pd.read_csv('data/train/train_prepared.csv', header = 0)"
   ]
  },
  {
   "cell_type": "code",
   "execution_count": 4,
   "metadata": {},
   "outputs": [
    {
     "data": {
      "text/html": [
       "<div>\n",
       "<style scoped>\n",
       "    .dataframe tbody tr th:only-of-type {\n",
       "        vertical-align: middle;\n",
       "    }\n",
       "\n",
       "    .dataframe tbody tr th {\n",
       "        vertical-align: top;\n",
       "    }\n",
       "\n",
       "    .dataframe thead th {\n",
       "        text-align: right;\n",
       "    }\n",
       "</style>\n",
       "<table border=\"1\" class=\"dataframe\">\n",
       "  <thead>\n",
       "    <tr style=\"text-align: right;\">\n",
       "      <th></th>\n",
       "      <th>first_active_month</th>\n",
       "      <th>card_id</th>\n",
       "      <th>feature_1</th>\n",
       "      <th>feature_2</th>\n",
       "      <th>feature_3</th>\n",
       "      <th>target</th>\n",
       "      <th>('purchase_amount', 'min')</th>\n",
       "      <th>('purchase_amount', 'max')</th>\n",
       "      <th>('purchase_amount', 'mean')</th>\n",
       "      <th>('purchase_amount', 'median')</th>\n",
       "      <th>('purchase_amount', 'std')</th>\n",
       "      <th>('purchase_amount', 'size')</th>\n",
       "      <th>('purchase_amount', 'sum')</th>\n",
       "      <th>('month_lag', 'min')</th>\n",
       "      <th>('month_lag', 'mean')</th>\n",
       "      <th>('month_lag', 'median')</th>\n",
       "      <th>('month_lag', 'std')</th>\n",
       "    </tr>\n",
       "  </thead>\n",
       "  <tbody>\n",
       "    <tr>\n",
       "      <th>0</th>\n",
       "      <td>2017-06</td>\n",
       "      <td>C_ID_92a2005557</td>\n",
       "      <td>5</td>\n",
       "      <td>2</td>\n",
       "      <td>1</td>\n",
       "      <td>-0.820283</td>\n",
       "      <td>-0.739395</td>\n",
       "      <td>2.258395</td>\n",
       "      <td>-0.638341</td>\n",
       "      <td>-0.698042</td>\n",
       "      <td>0.212139</td>\n",
       "      <td>260</td>\n",
       "      <td>-165.968739</td>\n",
       "      <td>-8</td>\n",
       "      <td>-3.911538</td>\n",
       "      <td>-4.0</td>\n",
       "      <td>2.397687</td>\n",
       "    </tr>\n",
       "    <tr>\n",
       "      <th>1</th>\n",
       "      <td>2017-01</td>\n",
       "      <td>C_ID_3d0044924f</td>\n",
       "      <td>4</td>\n",
       "      <td>1</td>\n",
       "      <td>0</td>\n",
       "      <td>0.392913</td>\n",
       "      <td>-0.742400</td>\n",
       "      <td>4.630299</td>\n",
       "      <td>-0.600018</td>\n",
       "      <td>-0.708590</td>\n",
       "      <td>0.384967</td>\n",
       "      <td>350</td>\n",
       "      <td>-210.006336</td>\n",
       "      <td>-12</td>\n",
       "      <td>-5.031429</td>\n",
       "      <td>-5.0</td>\n",
       "      <td>3.804934</td>\n",
       "    </tr>\n",
       "    <tr>\n",
       "      <th>2</th>\n",
       "      <td>2016-08</td>\n",
       "      <td>C_ID_d639edf6cd</td>\n",
       "      <td>2</td>\n",
       "      <td>2</td>\n",
       "      <td>0</td>\n",
       "      <td>0.688056</td>\n",
       "      <td>-0.730138</td>\n",
       "      <td>-0.145847</td>\n",
       "      <td>-0.678311</td>\n",
       "      <td>-0.698868</td>\n",
       "      <td>0.087380</td>\n",
       "      <td>43</td>\n",
       "      <td>-29.167391</td>\n",
       "      <td>-13</td>\n",
       "      <td>-8.604651</td>\n",
       "      <td>-10.0</td>\n",
       "      <td>3.842987</td>\n",
       "    </tr>\n",
       "    <tr>\n",
       "      <th>3</th>\n",
       "      <td>2017-09</td>\n",
       "      <td>C_ID_186d6a6901</td>\n",
       "      <td>4</td>\n",
       "      <td>3</td>\n",
       "      <td>0</td>\n",
       "      <td>0.142495</td>\n",
       "      <td>-0.740897</td>\n",
       "      <td>1.445596</td>\n",
       "      <td>-0.642745</td>\n",
       "      <td>-0.707989</td>\n",
       "      <td>0.261624</td>\n",
       "      <td>77</td>\n",
       "      <td>-49.491364</td>\n",
       "      <td>-5</td>\n",
       "      <td>-2.831169</td>\n",
       "      <td>-4.0</td>\n",
       "      <td>1.802065</td>\n",
       "    </tr>\n",
       "    <tr>\n",
       "      <th>4</th>\n",
       "      <td>2017-11</td>\n",
       "      <td>C_ID_cdbd2c0db2</td>\n",
       "      <td>1</td>\n",
       "      <td>3</td>\n",
       "      <td>0</td>\n",
       "      <td>-0.159749</td>\n",
       "      <td>-0.746156</td>\n",
       "      <td>7.193041</td>\n",
       "      <td>-0.366073</td>\n",
       "      <td>-0.689807</td>\n",
       "      <td>1.352094</td>\n",
       "      <td>133</td>\n",
       "      <td>-48.687656</td>\n",
       "      <td>-3</td>\n",
       "      <td>-1.285714</td>\n",
       "      <td>-1.0</td>\n",
       "      <td>1.026700</td>\n",
       "    </tr>\n",
       "  </tbody>\n",
       "</table>\n",
       "</div>"
      ],
      "text/plain": [
       "  first_active_month          card_id  feature_1  feature_2  feature_3  \\\n",
       "0            2017-06  C_ID_92a2005557          5          2          1   \n",
       "1            2017-01  C_ID_3d0044924f          4          1          0   \n",
       "2            2016-08  C_ID_d639edf6cd          2          2          0   \n",
       "3            2017-09  C_ID_186d6a6901          4          3          0   \n",
       "4            2017-11  C_ID_cdbd2c0db2          1          3          0   \n",
       "\n",
       "     target  ('purchase_amount', 'min')  ('purchase_amount', 'max')  \\\n",
       "0 -0.820283                   -0.739395                    2.258395   \n",
       "1  0.392913                   -0.742400                    4.630299   \n",
       "2  0.688056                   -0.730138                   -0.145847   \n",
       "3  0.142495                   -0.740897                    1.445596   \n",
       "4 -0.159749                   -0.746156                    7.193041   \n",
       "\n",
       "   ('purchase_amount', 'mean')  ('purchase_amount', 'median')  \\\n",
       "0                    -0.638341                      -0.698042   \n",
       "1                    -0.600018                      -0.708590   \n",
       "2                    -0.678311                      -0.698868   \n",
       "3                    -0.642745                      -0.707989   \n",
       "4                    -0.366073                      -0.689807   \n",
       "\n",
       "   ('purchase_amount', 'std')  ('purchase_amount', 'size')  \\\n",
       "0                    0.212139                          260   \n",
       "1                    0.384967                          350   \n",
       "2                    0.087380                           43   \n",
       "3                    0.261624                           77   \n",
       "4                    1.352094                          133   \n",
       "\n",
       "   ('purchase_amount', 'sum')  ('month_lag', 'min')  ('month_lag', 'mean')  \\\n",
       "0                 -165.968739                    -8              -3.911538   \n",
       "1                 -210.006336                   -12              -5.031429   \n",
       "2                  -29.167391                   -13              -8.604651   \n",
       "3                  -49.491364                    -5              -2.831169   \n",
       "4                  -48.687656                    -3              -1.285714   \n",
       "\n",
       "   ('month_lag', 'median')  ('month_lag', 'std')  \n",
       "0                     -4.0              2.397687  \n",
       "1                     -5.0              3.804934  \n",
       "2                    -10.0              3.842987  \n",
       "3                     -4.0              1.802065  \n",
       "4                     -1.0              1.026700  "
      ]
     },
     "execution_count": 4,
     "metadata": {},
     "output_type": "execute_result"
    }
   ],
   "source": [
    "df.head()"
   ]
  },
  {
   "cell_type": "markdown",
   "metadata": {},
   "source": [
    "**Группировка**"
   ]
  },
  {
   "cell_type": "markdown",
   "metadata": {},
   "source": [
    "Расширим категориальные признаки на бинарные по их уникальным сочетаниям (все перестановки)"
   ]
  },
  {
   "cell_type": "code",
   "execution_count": 6,
   "metadata": {},
   "outputs": [],
   "source": [
    "df_gr = df\n",
    "\n",
    "for f1 in [1,2,3,4,5]:\n",
    "    for f2 in [1,2,3]:\n",
    "        for f3 in [0,1]:\n",
    "            col_name = 'feature_' + str(f1) + str(f2) + str(f3)\n",
    "            df_gr[col_name] = [0] * 201917"
   ]
  },
  {
   "cell_type": "code",
   "execution_count": 116,
   "metadata": {},
   "outputs": [],
   "source": [
    "for idx, _ in enumerate(df_gr.index):\n",
    "    cur_val = df_gr.loc[idx]\n",
    "    col_name = 'feature_' + str(cur_val[2]) + str(cur_val[3]) + str(cur_val[4])\n",
    "    df_gr.loc[idx, col_name] = 1"
   ]
  },
  {
   "cell_type": "code",
   "execution_count": 112,
   "metadata": {},
   "outputs": [
    {
     "data": {
      "text/plain": [
       "(201917, 36)"
      ]
     },
     "execution_count": 112,
     "metadata": {},
     "output_type": "execute_result"
    }
   ],
   "source": [
    "df_gr.shape"
   ]
  },
  {
   "cell_type": "code",
   "execution_count": 118,
   "metadata": {},
   "outputs": [
    {
     "data": {
      "text/html": [
       "<div>\n",
       "<style scoped>\n",
       "    .dataframe tbody tr th:only-of-type {\n",
       "        vertical-align: middle;\n",
       "    }\n",
       "\n",
       "    .dataframe tbody tr th {\n",
       "        vertical-align: top;\n",
       "    }\n",
       "\n",
       "    .dataframe thead th {\n",
       "        text-align: right;\n",
       "    }\n",
       "</style>\n",
       "<table border=\"1\" class=\"dataframe\">\n",
       "  <thead>\n",
       "    <tr style=\"text-align: right;\">\n",
       "      <th></th>\n",
       "      <th>first_active_month</th>\n",
       "      <th>card_id</th>\n",
       "      <th>feature_1</th>\n",
       "      <th>feature_2</th>\n",
       "      <th>feature_3</th>\n",
       "      <th>target</th>\n",
       "      <th>feature_110</th>\n",
       "      <th>feature_111</th>\n",
       "      <th>feature_120</th>\n",
       "      <th>feature_121</th>\n",
       "      <th>...</th>\n",
       "      <th>feature_420</th>\n",
       "      <th>feature_421</th>\n",
       "      <th>feature_430</th>\n",
       "      <th>feature_431</th>\n",
       "      <th>feature_510</th>\n",
       "      <th>feature_511</th>\n",
       "      <th>feature_520</th>\n",
       "      <th>feature_521</th>\n",
       "      <th>feature_530</th>\n",
       "      <th>feature_531</th>\n",
       "    </tr>\n",
       "  </thead>\n",
       "  <tbody>\n",
       "    <tr>\n",
       "      <th>0</th>\n",
       "      <td>2017-06</td>\n",
       "      <td>C_ID_92a2005557</td>\n",
       "      <td>5</td>\n",
       "      <td>2</td>\n",
       "      <td>1</td>\n",
       "      <td>-0.820283</td>\n",
       "      <td>0</td>\n",
       "      <td>0</td>\n",
       "      <td>0</td>\n",
       "      <td>0</td>\n",
       "      <td>...</td>\n",
       "      <td>0</td>\n",
       "      <td>0</td>\n",
       "      <td>0</td>\n",
       "      <td>0</td>\n",
       "      <td>0</td>\n",
       "      <td>0</td>\n",
       "      <td>0</td>\n",
       "      <td>1</td>\n",
       "      <td>0</td>\n",
       "      <td>0</td>\n",
       "    </tr>\n",
       "    <tr>\n",
       "      <th>1</th>\n",
       "      <td>2017-01</td>\n",
       "      <td>C_ID_3d0044924f</td>\n",
       "      <td>4</td>\n",
       "      <td>1</td>\n",
       "      <td>0</td>\n",
       "      <td>0.392913</td>\n",
       "      <td>0</td>\n",
       "      <td>0</td>\n",
       "      <td>0</td>\n",
       "      <td>0</td>\n",
       "      <td>...</td>\n",
       "      <td>0</td>\n",
       "      <td>0</td>\n",
       "      <td>0</td>\n",
       "      <td>0</td>\n",
       "      <td>0</td>\n",
       "      <td>0</td>\n",
       "      <td>0</td>\n",
       "      <td>0</td>\n",
       "      <td>0</td>\n",
       "      <td>0</td>\n",
       "    </tr>\n",
       "    <tr>\n",
       "      <th>2</th>\n",
       "      <td>2016-08</td>\n",
       "      <td>C_ID_d639edf6cd</td>\n",
       "      <td>2</td>\n",
       "      <td>2</td>\n",
       "      <td>0</td>\n",
       "      <td>0.688056</td>\n",
       "      <td>0</td>\n",
       "      <td>0</td>\n",
       "      <td>0</td>\n",
       "      <td>0</td>\n",
       "      <td>...</td>\n",
       "      <td>0</td>\n",
       "      <td>0</td>\n",
       "      <td>0</td>\n",
       "      <td>0</td>\n",
       "      <td>0</td>\n",
       "      <td>0</td>\n",
       "      <td>0</td>\n",
       "      <td>0</td>\n",
       "      <td>0</td>\n",
       "      <td>0</td>\n",
       "    </tr>\n",
       "    <tr>\n",
       "      <th>3</th>\n",
       "      <td>2017-09</td>\n",
       "      <td>C_ID_186d6a6901</td>\n",
       "      <td>4</td>\n",
       "      <td>3</td>\n",
       "      <td>0</td>\n",
       "      <td>0.142495</td>\n",
       "      <td>0</td>\n",
       "      <td>0</td>\n",
       "      <td>0</td>\n",
       "      <td>0</td>\n",
       "      <td>...</td>\n",
       "      <td>0</td>\n",
       "      <td>0</td>\n",
       "      <td>1</td>\n",
       "      <td>0</td>\n",
       "      <td>0</td>\n",
       "      <td>0</td>\n",
       "      <td>0</td>\n",
       "      <td>0</td>\n",
       "      <td>0</td>\n",
       "      <td>0</td>\n",
       "    </tr>\n",
       "    <tr>\n",
       "      <th>4</th>\n",
       "      <td>2017-11</td>\n",
       "      <td>C_ID_cdbd2c0db2</td>\n",
       "      <td>1</td>\n",
       "      <td>3</td>\n",
       "      <td>0</td>\n",
       "      <td>-0.159749</td>\n",
       "      <td>0</td>\n",
       "      <td>0</td>\n",
       "      <td>0</td>\n",
       "      <td>0</td>\n",
       "      <td>...</td>\n",
       "      <td>0</td>\n",
       "      <td>0</td>\n",
       "      <td>0</td>\n",
       "      <td>0</td>\n",
       "      <td>0</td>\n",
       "      <td>0</td>\n",
       "      <td>0</td>\n",
       "      <td>0</td>\n",
       "      <td>0</td>\n",
       "      <td>0</td>\n",
       "    </tr>\n",
       "  </tbody>\n",
       "</table>\n",
       "<p>5 rows × 36 columns</p>\n",
       "</div>"
      ],
      "text/plain": [
       "  first_active_month          card_id  feature_1  feature_2  feature_3  \\\n",
       "0            2017-06  C_ID_92a2005557          5          2          1   \n",
       "1            2017-01  C_ID_3d0044924f          4          1          0   \n",
       "2            2016-08  C_ID_d639edf6cd          2          2          0   \n",
       "3            2017-09  C_ID_186d6a6901          4          3          0   \n",
       "4            2017-11  C_ID_cdbd2c0db2          1          3          0   \n",
       "\n",
       "     target  feature_110  feature_111  feature_120  feature_121     ...       \\\n",
       "0 -0.820283            0            0            0            0     ...        \n",
       "1  0.392913            0            0            0            0     ...        \n",
       "2  0.688056            0            0            0            0     ...        \n",
       "3  0.142495            0            0            0            0     ...        \n",
       "4 -0.159749            0            0            0            0     ...        \n",
       "\n",
       "   feature_420  feature_421  feature_430  feature_431  feature_510  \\\n",
       "0            0            0            0            0            0   \n",
       "1            0            0            0            0            0   \n",
       "2            0            0            0            0            0   \n",
       "3            0            0            1            0            0   \n",
       "4            0            0            0            0            0   \n",
       "\n",
       "   feature_511  feature_520  feature_521  feature_530  feature_531  \n",
       "0            0            0            1            0            0  \n",
       "1            0            0            0            0            0  \n",
       "2            0            0            0            0            0  \n",
       "3            0            0            0            0            0  \n",
       "4            0            0            0            0            0  \n",
       "\n",
       "[5 rows x 36 columns]"
      ]
     },
     "execution_count": 118,
     "metadata": {},
     "output_type": "execute_result"
    }
   ],
   "source": [
    "df_gr.head()"
   ]
  },
  {
   "cell_type": "code",
   "execution_count": 120,
   "metadata": {
    "scrolled": false
   },
   "outputs": [
    {
     "data": {
      "text/plain": [
       "first_active_month            2017-08\n",
       "card_id               C_ID_0510accad2\n",
       "feature_1                           3\n",
       "feature_2                           1\n",
       "feature_3                           1\n",
       "target                       0.454811\n",
       "feature_110                         0\n",
       "feature_111                         0\n",
       "feature_120                         0\n",
       "feature_121                         0\n",
       "feature_130                         0\n",
       "feature_131                         0\n",
       "feature_210                         0\n",
       "feature_211                         0\n",
       "feature_220                         0\n",
       "feature_221                         0\n",
       "feature_230                         0\n",
       "feature_231                         0\n",
       "feature_310                         0\n",
       "feature_311                         1\n",
       "feature_320                         0\n",
       "feature_321                         0\n",
       "feature_330                         0\n",
       "feature_331                         0\n",
       "feature_410                         0\n",
       "feature_411                         0\n",
       "feature_420                         0\n",
       "feature_421                         0\n",
       "feature_430                         0\n",
       "feature_431                         0\n",
       "feature_510                         0\n",
       "feature_511                         0\n",
       "feature_520                         0\n",
       "feature_521                         0\n",
       "feature_530                         0\n",
       "feature_531                         0\n",
       "Name: 120, dtype: object"
      ]
     },
     "execution_count": 120,
     "metadata": {},
     "output_type": "execute_result"
    }
   ],
   "source": [
    "df_gr.loc[120]"
   ]
  },
  {
   "cell_type": "markdown",
   "metadata": {},
   "source": [
    "Разложим дату на признаки месяца и года"
   ]
  },
  {
   "cell_type": "code",
   "execution_count": 121,
   "metadata": {},
   "outputs": [],
   "source": [
    "df_gr.first_active_month = pd.to_datetime(df_gr.first_active_month)\n",
    "df_gr['yr'] = df_gr.first_active_month.dt.year\n",
    "df_gr['mnth'] = df_gr.first_active_month.dt.month"
   ]
  },
  {
   "cell_type": "markdown",
   "metadata": {},
   "source": [
    "***"
   ]
  },
  {
   "cell_type": "markdown",
   "metadata": {},
   "source": [
    "Подготовим векторные представления"
   ]
  },
  {
   "cell_type": "code",
   "execution_count": 122,
   "metadata": {},
   "outputs": [],
   "source": [
    "X1 = np.array(df.iloc[:, 2:5 ])\n",
    "X2 = np.array(df.iloc[:, 6: ])\n",
    "X = np.column_stack((X1, X2))\n",
    "y = np.array(df.loc[:, ['target']])"
   ]
  },
  {
   "cell_type": "code",
   "execution_count": 123,
   "metadata": {},
   "outputs": [
    {
     "data": {
      "text/plain": [
       "(201917, 35)"
      ]
     },
     "execution_count": 123,
     "metadata": {},
     "output_type": "execute_result"
    }
   ],
   "source": [
    "X.shape"
   ]
  },
  {
   "cell_type": "code",
   "execution_count": 124,
   "metadata": {},
   "outputs": [
    {
     "data": {
      "text/plain": [
       "(201917, 1)"
      ]
     },
     "execution_count": 124,
     "metadata": {},
     "output_type": "execute_result"
    }
   ],
   "source": [
    "y.shape"
   ]
  },
  {
   "cell_type": "markdown",
   "metadata": {},
   "source": [
    "# Модель "
   ]
  },
  {
   "cell_type": "markdown",
   "metadata": {},
   "source": [
    "Разобьем модель на обучающую и тестовую выборку"
   ]
  },
  {
   "cell_type": "code",
   "execution_count": 125,
   "metadata": {},
   "outputs": [],
   "source": [
    "from sklearn.model_selection import train_test_split"
   ]
  },
  {
   "cell_type": "code",
   "execution_count": 126,
   "metadata": {},
   "outputs": [],
   "source": [
    "X_train, X_test, y_train, y_test = train_test_split(X, y, test_size=0.3, random_state=123)"
   ]
  },
  {
   "cell_type": "markdown",
   "metadata": {},
   "source": [
    "Обучим модель"
   ]
  },
  {
   "cell_type": "code",
   "execution_count": 127,
   "metadata": {},
   "outputs": [],
   "source": [
    "model = LinearRegression()\n",
    "model.fit(X_train, y_train)\n",
    "y_pred = model.predict(X_test)"
   ]
  },
  {
   "cell_type": "markdown",
   "metadata": {},
   "source": [
    "Рассчитаем среднеквадратичную ошибку и коэффициент детерминации "
   ]
  },
  {
   "cell_type": "code",
   "execution_count": 128,
   "metadata": {},
   "outputs": [
    {
     "data": {
      "text/plain": [
       "3.7952205138803037"
      ]
     },
     "execution_count": 128,
     "metadata": {},
     "output_type": "execute_result"
    }
   ],
   "source": [
    "import math\n",
    "math.sqrt(mean_squared_error(y_test, y_pred)) "
   ]
  },
  {
   "cell_type": "code",
   "execution_count": 129,
   "metadata": {},
   "outputs": [
    {
     "data": {
      "text/plain": [
       "0.003221936569715478"
      ]
     },
     "execution_count": 129,
     "metadata": {},
     "output_type": "execute_result"
    }
   ],
   "source": [
    "r2_score(y_test, y_pred)"
   ]
  },
  {
   "cell_type": "markdown",
   "metadata": {},
   "source": [
    "Уравнение совершенно не описывает дисперсии остатков, наверное это связано с низкой степенью влияния на целевую функцию выбранного факторного пространства."
   ]
  }
 ],
 "metadata": {
  "kernelspec": {
   "display_name": "Python 3",
   "language": "python",
   "name": "python3"
  },
  "language_info": {
   "codemirror_mode": {
    "name": "ipython",
    "version": 3
   },
   "file_extension": ".py",
   "mimetype": "text/x-python",
   "name": "python",
   "nbconvert_exporter": "python",
   "pygments_lexer": "ipython3",
   "version": "3.6.8"
  }
 },
 "nbformat": 4,
 "nbformat_minor": 2
}
